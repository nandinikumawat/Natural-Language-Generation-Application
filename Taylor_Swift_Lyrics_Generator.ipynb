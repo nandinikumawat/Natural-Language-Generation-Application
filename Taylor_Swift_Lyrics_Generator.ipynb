{
  "nbformat": 4,
  "nbformat_minor": 0,
  "metadata": {
    "colab": {
      "provenance": [],
      "authorship_tag": "ABX9TyORlX5l1rd7xYziB9SS3cCN",
      "include_colab_link": true
    },
    "kernelspec": {
      "name": "python3",
      "display_name": "Python 3"
    },
    "language_info": {
      "name": "python"
    }
  },
  "cells": [
    {
      "cell_type": "markdown",
      "metadata": {
        "id": "view-in-github",
        "colab_type": "text"
      },
      "source": [
        "<a href=\"https://colab.research.google.com/github/nandinikumawat/Natural-Language-Generation-Application/blob/main/Taylor_Swift_Lyrics_Generator.ipynb\" target=\"_parent\"><img src=\"https://colab.research.google.com/assets/colab-badge.svg\" alt=\"Open In Colab\"/></a>"
      ]
    },
    {
      "cell_type": "code",
      "execution_count": null,
      "metadata": {
        "id": "a3q0Ng1k-7Ms"
      },
      "outputs": [],
      "source": [
        "#importing libraries\n",
        "import numpy as np\n",
        "import pandas as pd\n",
        "import sys \n",
        "import seaborn as sns\n",
        "from keras.models import Sequential\n",
        "from keras.layers import LSTM, Activation, Flatten, Dropout, Dense, Embedding, TimeDistributed\n",
        "from keras.callbacks import ModelCheckpoint\n",
        "from keras.utils import np_utils\n",
        "import tensorflow as tf"
      ]
    },
    {
      "cell_type": "code",
      "source": [
        "#loading dataset\n",
        "dataset = pd.read_csv('taylor_swift_lyrics.csv', encoding = \"latin1\")\n"
      ],
      "metadata": {
        "id": "gQYbYS01_F_S"
      },
      "execution_count": null,
      "outputs": []
    },
    {
      "cell_type": "code",
      "source": [
        "#displaying first 20 rows of the daaset\n",
        "dataset.head(20)"
      ],
      "metadata": {
        "colab": {
          "base_uri": "https://localhost:8080/",
          "height": 676
        },
        "id": "gLS8TsHN_GBi",
        "outputId": "5ce6fffe-174e-4283-f2d5-11051b995548"
      },
      "execution_count": null,
      "outputs": [
        {
          "output_type": "execute_result",
          "data": {
            "text/plain": [
              "          artist         album track_title  track_n  \\\n",
              "0   Taylor Swift  Taylor Swift  Tim McGraw        1   \n",
              "1   Taylor Swift  Taylor Swift  Tim McGraw        1   \n",
              "2   Taylor Swift  Taylor Swift  Tim McGraw        1   \n",
              "3   Taylor Swift  Taylor Swift  Tim McGraw        1   \n",
              "4   Taylor Swift  Taylor Swift  Tim McGraw        1   \n",
              "5   Taylor Swift  Taylor Swift  Tim McGraw        1   \n",
              "6   Taylor Swift  Taylor Swift  Tim McGraw        1   \n",
              "7   Taylor Swift  Taylor Swift  Tim McGraw        1   \n",
              "8   Taylor Swift  Taylor Swift  Tim McGraw        1   \n",
              "9   Taylor Swift  Taylor Swift  Tim McGraw        1   \n",
              "10  Taylor Swift  Taylor Swift  Tim McGraw        1   \n",
              "11  Taylor Swift  Taylor Swift  Tim McGraw        1   \n",
              "12  Taylor Swift  Taylor Swift  Tim McGraw        1   \n",
              "13  Taylor Swift  Taylor Swift  Tim McGraw        1   \n",
              "14  Taylor Swift  Taylor Swift  Tim McGraw        1   \n",
              "15  Taylor Swift  Taylor Swift  Tim McGraw        1   \n",
              "16  Taylor Swift  Taylor Swift  Tim McGraw        1   \n",
              "17  Taylor Swift  Taylor Swift  Tim McGraw        1   \n",
              "18  Taylor Swift  Taylor Swift  Tim McGraw        1   \n",
              "19  Taylor Swift  Taylor Swift  Tim McGraw        1   \n",
              "\n",
              "                                                lyric  line  year  \n",
              "0                 He said the way my blue eyes shined     1  2006  \n",
              "1         Put those Georgia stars to shame that night     2  2006  \n",
              "2                              I said, \"That's a lie\"     3  2006  \n",
              "3                         Just a boy in a Chevy truck     4  2006  \n",
              "4                That had a tendency of gettin' stuck     5  2006  \n",
              "5                               On backroads at night     6  2006  \n",
              "6    And I was right there beside him all summer long     7  2006  \n",
              "7   And then the time we woke up to find that summ...     8  2006  \n",
              "8                       But when you think Tim McGraw     9  2006  \n",
              "9                   I hope you think my favorite song    10  2006  \n",
              "10                The one we danced to all night long    11  2006  \n",
              "11              The moon like a spotlight on the lake    12  2006  \n",
              "12                           When you think happiness    13  2006  \n",
              "13           I hope you think that little black dress    14  2006  \n",
              "14                     Think of my head on your chest    15  2006  \n",
              "15                        And my old faded blue jeans    16  2006  \n",
              "16                          When you think Tim McGraw    17  2006  \n",
              "17                             I hope you think of me    18  2006  \n",
              "18                     September saw a month of tears    19  2006  \n",
              "19             And thankin' God that you weren't here    20  2006  "
            ],
            "text/html": [
              "\n",
              "  <div id=\"df-2449d938-0f37-4b33-9e40-a2dc6cd6f854\">\n",
              "    <div class=\"colab-df-container\">\n",
              "      <div>\n",
              "<style scoped>\n",
              "    .dataframe tbody tr th:only-of-type {\n",
              "        vertical-align: middle;\n",
              "    }\n",
              "\n",
              "    .dataframe tbody tr th {\n",
              "        vertical-align: top;\n",
              "    }\n",
              "\n",
              "    .dataframe thead th {\n",
              "        text-align: right;\n",
              "    }\n",
              "</style>\n",
              "<table border=\"1\" class=\"dataframe\">\n",
              "  <thead>\n",
              "    <tr style=\"text-align: right;\">\n",
              "      <th></th>\n",
              "      <th>artist</th>\n",
              "      <th>album</th>\n",
              "      <th>track_title</th>\n",
              "      <th>track_n</th>\n",
              "      <th>lyric</th>\n",
              "      <th>line</th>\n",
              "      <th>year</th>\n",
              "    </tr>\n",
              "  </thead>\n",
              "  <tbody>\n",
              "    <tr>\n",
              "      <th>0</th>\n",
              "      <td>Taylor Swift</td>\n",
              "      <td>Taylor Swift</td>\n",
              "      <td>Tim McGraw</td>\n",
              "      <td>1</td>\n",
              "      <td>He said the way my blue eyes shined</td>\n",
              "      <td>1</td>\n",
              "      <td>2006</td>\n",
              "    </tr>\n",
              "    <tr>\n",
              "      <th>1</th>\n",
              "      <td>Taylor Swift</td>\n",
              "      <td>Taylor Swift</td>\n",
              "      <td>Tim McGraw</td>\n",
              "      <td>1</td>\n",
              "      <td>Put those Georgia stars to shame that night</td>\n",
              "      <td>2</td>\n",
              "      <td>2006</td>\n",
              "    </tr>\n",
              "    <tr>\n",
              "      <th>2</th>\n",
              "      <td>Taylor Swift</td>\n",
              "      <td>Taylor Swift</td>\n",
              "      <td>Tim McGraw</td>\n",
              "      <td>1</td>\n",
              "      <td>I said, \"That's a lie\"</td>\n",
              "      <td>3</td>\n",
              "      <td>2006</td>\n",
              "    </tr>\n",
              "    <tr>\n",
              "      <th>3</th>\n",
              "      <td>Taylor Swift</td>\n",
              "      <td>Taylor Swift</td>\n",
              "      <td>Tim McGraw</td>\n",
              "      <td>1</td>\n",
              "      <td>Just a boy in a Chevy truck</td>\n",
              "      <td>4</td>\n",
              "      <td>2006</td>\n",
              "    </tr>\n",
              "    <tr>\n",
              "      <th>4</th>\n",
              "      <td>Taylor Swift</td>\n",
              "      <td>Taylor Swift</td>\n",
              "      <td>Tim McGraw</td>\n",
              "      <td>1</td>\n",
              "      <td>That had a tendency of gettin' stuck</td>\n",
              "      <td>5</td>\n",
              "      <td>2006</td>\n",
              "    </tr>\n",
              "    <tr>\n",
              "      <th>5</th>\n",
              "      <td>Taylor Swift</td>\n",
              "      <td>Taylor Swift</td>\n",
              "      <td>Tim McGraw</td>\n",
              "      <td>1</td>\n",
              "      <td>On backroads at night</td>\n",
              "      <td>6</td>\n",
              "      <td>2006</td>\n",
              "    </tr>\n",
              "    <tr>\n",
              "      <th>6</th>\n",
              "      <td>Taylor Swift</td>\n",
              "      <td>Taylor Swift</td>\n",
              "      <td>Tim McGraw</td>\n",
              "      <td>1</td>\n",
              "      <td>And I was right there beside him all summer long</td>\n",
              "      <td>7</td>\n",
              "      <td>2006</td>\n",
              "    </tr>\n",
              "    <tr>\n",
              "      <th>7</th>\n",
              "      <td>Taylor Swift</td>\n",
              "      <td>Taylor Swift</td>\n",
              "      <td>Tim McGraw</td>\n",
              "      <td>1</td>\n",
              "      <td>And then the time we woke up to find that summ...</td>\n",
              "      <td>8</td>\n",
              "      <td>2006</td>\n",
              "    </tr>\n",
              "    <tr>\n",
              "      <th>8</th>\n",
              "      <td>Taylor Swift</td>\n",
              "      <td>Taylor Swift</td>\n",
              "      <td>Tim McGraw</td>\n",
              "      <td>1</td>\n",
              "      <td>But when you think Tim McGraw</td>\n",
              "      <td>9</td>\n",
              "      <td>2006</td>\n",
              "    </tr>\n",
              "    <tr>\n",
              "      <th>9</th>\n",
              "      <td>Taylor Swift</td>\n",
              "      <td>Taylor Swift</td>\n",
              "      <td>Tim McGraw</td>\n",
              "      <td>1</td>\n",
              "      <td>I hope you think my favorite song</td>\n",
              "      <td>10</td>\n",
              "      <td>2006</td>\n",
              "    </tr>\n",
              "    <tr>\n",
              "      <th>10</th>\n",
              "      <td>Taylor Swift</td>\n",
              "      <td>Taylor Swift</td>\n",
              "      <td>Tim McGraw</td>\n",
              "      <td>1</td>\n",
              "      <td>The one we danced to all night long</td>\n",
              "      <td>11</td>\n",
              "      <td>2006</td>\n",
              "    </tr>\n",
              "    <tr>\n",
              "      <th>11</th>\n",
              "      <td>Taylor Swift</td>\n",
              "      <td>Taylor Swift</td>\n",
              "      <td>Tim McGraw</td>\n",
              "      <td>1</td>\n",
              "      <td>The moon like a spotlight on the lake</td>\n",
              "      <td>12</td>\n",
              "      <td>2006</td>\n",
              "    </tr>\n",
              "    <tr>\n",
              "      <th>12</th>\n",
              "      <td>Taylor Swift</td>\n",
              "      <td>Taylor Swift</td>\n",
              "      <td>Tim McGraw</td>\n",
              "      <td>1</td>\n",
              "      <td>When you think happiness</td>\n",
              "      <td>13</td>\n",
              "      <td>2006</td>\n",
              "    </tr>\n",
              "    <tr>\n",
              "      <th>13</th>\n",
              "      <td>Taylor Swift</td>\n",
              "      <td>Taylor Swift</td>\n",
              "      <td>Tim McGraw</td>\n",
              "      <td>1</td>\n",
              "      <td>I hope you think that little black dress</td>\n",
              "      <td>14</td>\n",
              "      <td>2006</td>\n",
              "    </tr>\n",
              "    <tr>\n",
              "      <th>14</th>\n",
              "      <td>Taylor Swift</td>\n",
              "      <td>Taylor Swift</td>\n",
              "      <td>Tim McGraw</td>\n",
              "      <td>1</td>\n",
              "      <td>Think of my head on your chest</td>\n",
              "      <td>15</td>\n",
              "      <td>2006</td>\n",
              "    </tr>\n",
              "    <tr>\n",
              "      <th>15</th>\n",
              "      <td>Taylor Swift</td>\n",
              "      <td>Taylor Swift</td>\n",
              "      <td>Tim McGraw</td>\n",
              "      <td>1</td>\n",
              "      <td>And my old faded blue jeans</td>\n",
              "      <td>16</td>\n",
              "      <td>2006</td>\n",
              "    </tr>\n",
              "    <tr>\n",
              "      <th>16</th>\n",
              "      <td>Taylor Swift</td>\n",
              "      <td>Taylor Swift</td>\n",
              "      <td>Tim McGraw</td>\n",
              "      <td>1</td>\n",
              "      <td>When you think Tim McGraw</td>\n",
              "      <td>17</td>\n",
              "      <td>2006</td>\n",
              "    </tr>\n",
              "    <tr>\n",
              "      <th>17</th>\n",
              "      <td>Taylor Swift</td>\n",
              "      <td>Taylor Swift</td>\n",
              "      <td>Tim McGraw</td>\n",
              "      <td>1</td>\n",
              "      <td>I hope you think of me</td>\n",
              "      <td>18</td>\n",
              "      <td>2006</td>\n",
              "    </tr>\n",
              "    <tr>\n",
              "      <th>18</th>\n",
              "      <td>Taylor Swift</td>\n",
              "      <td>Taylor Swift</td>\n",
              "      <td>Tim McGraw</td>\n",
              "      <td>1</td>\n",
              "      <td>September saw a month of tears</td>\n",
              "      <td>19</td>\n",
              "      <td>2006</td>\n",
              "    </tr>\n",
              "    <tr>\n",
              "      <th>19</th>\n",
              "      <td>Taylor Swift</td>\n",
              "      <td>Taylor Swift</td>\n",
              "      <td>Tim McGraw</td>\n",
              "      <td>1</td>\n",
              "      <td>And thankin' God that you weren't here</td>\n",
              "      <td>20</td>\n",
              "      <td>2006</td>\n",
              "    </tr>\n",
              "  </tbody>\n",
              "</table>\n",
              "</div>\n",
              "      <button class=\"colab-df-convert\" onclick=\"convertToInteractive('df-2449d938-0f37-4b33-9e40-a2dc6cd6f854')\"\n",
              "              title=\"Convert this dataframe to an interactive table.\"\n",
              "              style=\"display:none;\">\n",
              "        \n",
              "  <svg xmlns=\"http://www.w3.org/2000/svg\" height=\"24px\"viewBox=\"0 0 24 24\"\n",
              "       width=\"24px\">\n",
              "    <path d=\"M0 0h24v24H0V0z\" fill=\"none\"/>\n",
              "    <path d=\"M18.56 5.44l.94 2.06.94-2.06 2.06-.94-2.06-.94-.94-2.06-.94 2.06-2.06.94zm-11 1L8.5 8.5l.94-2.06 2.06-.94-2.06-.94L8.5 2.5l-.94 2.06-2.06.94zm10 10l.94 2.06.94-2.06 2.06-.94-2.06-.94-.94-2.06-.94 2.06-2.06.94z\"/><path d=\"M17.41 7.96l-1.37-1.37c-.4-.4-.92-.59-1.43-.59-.52 0-1.04.2-1.43.59L10.3 9.45l-7.72 7.72c-.78.78-.78 2.05 0 2.83L4 21.41c.39.39.9.59 1.41.59.51 0 1.02-.2 1.41-.59l7.78-7.78 2.81-2.81c.8-.78.8-2.07 0-2.86zM5.41 20L4 18.59l7.72-7.72 1.47 1.35L5.41 20z\"/>\n",
              "  </svg>\n",
              "      </button>\n",
              "      \n",
              "  <style>\n",
              "    .colab-df-container {\n",
              "      display:flex;\n",
              "      flex-wrap:wrap;\n",
              "      gap: 12px;\n",
              "    }\n",
              "\n",
              "    .colab-df-convert {\n",
              "      background-color: #E8F0FE;\n",
              "      border: none;\n",
              "      border-radius: 50%;\n",
              "      cursor: pointer;\n",
              "      display: none;\n",
              "      fill: #1967D2;\n",
              "      height: 32px;\n",
              "      padding: 0 0 0 0;\n",
              "      width: 32px;\n",
              "    }\n",
              "\n",
              "    .colab-df-convert:hover {\n",
              "      background-color: #E2EBFA;\n",
              "      box-shadow: 0px 1px 2px rgba(60, 64, 67, 0.3), 0px 1px 3px 1px rgba(60, 64, 67, 0.15);\n",
              "      fill: #174EA6;\n",
              "    }\n",
              "\n",
              "    [theme=dark] .colab-df-convert {\n",
              "      background-color: #3B4455;\n",
              "      fill: #D2E3FC;\n",
              "    }\n",
              "\n",
              "    [theme=dark] .colab-df-convert:hover {\n",
              "      background-color: #434B5C;\n",
              "      box-shadow: 0px 1px 3px 1px rgba(0, 0, 0, 0.15);\n",
              "      filter: drop-shadow(0px 1px 2px rgba(0, 0, 0, 0.3));\n",
              "      fill: #FFFFFF;\n",
              "    }\n",
              "  </style>\n",
              "\n",
              "      <script>\n",
              "        const buttonEl =\n",
              "          document.querySelector('#df-2449d938-0f37-4b33-9e40-a2dc6cd6f854 button.colab-df-convert');\n",
              "        buttonEl.style.display =\n",
              "          google.colab.kernel.accessAllowed ? 'block' : 'none';\n",
              "\n",
              "        async function convertToInteractive(key) {\n",
              "          const element = document.querySelector('#df-2449d938-0f37-4b33-9e40-a2dc6cd6f854');\n",
              "          const dataTable =\n",
              "            await google.colab.kernel.invokeFunction('convertToInteractive',\n",
              "                                                     [key], {});\n",
              "          if (!dataTable) return;\n",
              "\n",
              "          const docLinkHtml = 'Like what you see? Visit the ' +\n",
              "            '<a target=\"_blank\" href=https://colab.research.google.com/notebooks/data_table.ipynb>data table notebook</a>'\n",
              "            + ' to learn more about interactive tables.';\n",
              "          element.innerHTML = '';\n",
              "          dataTable['output_type'] = 'display_data';\n",
              "          await google.colab.output.renderOutput(dataTable, element);\n",
              "          const docLink = document.createElement('div');\n",
              "          docLink.innerHTML = docLinkHtml;\n",
              "          element.appendChild(docLink);\n",
              "        }\n",
              "      </script>\n",
              "    </div>\n",
              "  </div>\n",
              "  "
            ]
          },
          "metadata": {},
          "execution_count": 55
        }
      ]
    },
    {
      "cell_type": "code",
      "source": [
        "#shape of dataset\n",
        "dataset.shape"
      ],
      "metadata": {
        "colab": {
          "base_uri": "https://localhost:8080/"
        },
        "id": "zo22EVfq_GEV",
        "outputId": "d3a2ad93-bd55-49d9-ff71-3a718e48bd67"
      },
      "execution_count": null,
      "outputs": [
        {
          "output_type": "execute_result",
          "data": {
            "text/plain": [
              "(4862, 7)"
            ]
          },
          "metadata": {},
          "execution_count": 56
        }
      ]
    },
    {
      "cell_type": "code",
      "source": [
        "sns.countplot(x='artist',data=dataset,color='pink')"
      ],
      "metadata": {
        "colab": {
          "base_uri": "https://localhost:8080/",
          "height": 296
        },
        "id": "4oNvK22z_GGB",
        "outputId": "d4336641-64af-4682-be42-3876af738188"
      },
      "execution_count": null,
      "outputs": [
        {
          "output_type": "execute_result",
          "data": {
            "text/plain": [
              "<matplotlib.axes._subplots.AxesSubplot at 0x7f4b35aea850>"
            ]
          },
          "metadata": {},
          "execution_count": 57
        },
        {
          "output_type": "display_data",
          "data": {
            "text/plain": [
              "<Figure size 432x288 with 1 Axes>"
            ],
            "image/png": "[encoded data removed]"
          },
          "metadata": {
            "needs_background": "light"
          }
        }
      ]
    },
    {
      "cell_type": "code",
      "source": [
        "sns.countplot(x='album',data=dataset,palette='cubehelix')"
      ],
      "metadata": {
        "colab": {
          "base_uri": "https://localhost:8080/",
          "height": 296
        },
        "id": "jOdLAbhh_GIs",
        "outputId": "56d6f847-7159-4aec-da3a-4d911802960e"
      },
      "execution_count": null,
      "outputs": [
        {
          "output_type": "execute_result",
          "data": {
            "text/plain": [
              "<matplotlib.axes._subplots.AxesSubplot at 0x7f4b350eb790>"
            ]
          },
          "metadata": {},
          "execution_count": 58
        },
        {
          "output_type": "display_data",
          "data": {
            "text/plain": [
              "<Figure size 432x288 with 1 Axes>"
            ],
            "image/png": "[encoded data removed]"
          },
          "metadata": {
            "needs_background": "light"
          }
        }
      ]
    },
    {
      "cell_type": "code",
      "source": [
        "sns.countplot(x='track_title',data=dataset,palette='flag_r')"
      ],
      "metadata": {
        "colab": {
          "base_uri": "https://localhost:8080/",
          "height": 297
        },
        "id": "44nJ79Dk_GK1",
        "outputId": "29ce52e6-81c7-4112-f26c-d7ee6768cc0d"
      },
      "execution_count": null,
      "outputs": [
        {
          "output_type": "execute_result",
          "data": {
            "text/plain": [
              "<matplotlib.axes._subplots.AxesSubplot at 0x7f4b34cf1650>"
            ]
          },
          "metadata": {},
          "execution_count": 59
        },
        {
          "output_type": "display_data",
          "data": {
            "text/plain": [
              "<Figure size 432x288 with 1 Axes>"
            ],
            "image/png": "[encoded data removed]"
          },
          "metadata": {
            "needs_background": "light"
          }
        }
      ]
    },
    {
      "cell_type": "code",
      "source": [
        "sns.countplot(x='track_n',data=dataset,palette='RdPu')"
      ],
      "metadata": {
        "colab": {
          "base_uri": "https://localhost:8080/",
          "height": 297
        },
        "id": "vtiKiDMu_GM8",
        "outputId": "8e5b2e78-d636-4e06-8f20-083c83665fa9"
      },
      "execution_count": null,
      "outputs": [
        {
          "output_type": "execute_result",
          "data": {
            "text/plain": [
              "<matplotlib.axes._subplots.AxesSubplot at 0x7f4b34a88950>"
            ]
          },
          "metadata": {},
          "execution_count": 60
        },
        {
          "output_type": "display_data",
          "data": {
            "text/plain": [
              "<Figure size 432x288 with 1 Axes>"
            ],
            "image/png": "[encoded data removed]"
          },
          "metadata": {
            "needs_background": "light"
          }
        }
      ]
    },
    {
      "cell_type": "code",
      "source": [
        "sns.countplot(x='line',data=dataset,palette='YlGn_r')"
      ],
      "metadata": {
        "colab": {
          "base_uri": "https://localhost:8080/",
          "height": 296
        },
        "id": "Ls_q1AHw_GPR",
        "outputId": "a7913b9a-4942-4245-b018-41c10c507307"
      },
      "execution_count": null,
      "outputs": [
        {
          "output_type": "execute_result",
          "data": {
            "text/plain": [
              "<matplotlib.axes._subplots.AxesSubplot at 0x7f4b34970290>"
            ]
          },
          "metadata": {},
          "execution_count": 61
        },
        {
          "output_type": "display_data",
          "data": {
            "text/plain": [
              "<Figure size 432x288 with 1 Axes>"
            ],
            "image/png": "[encoded data removed]"
          },
          "metadata": {
            "needs_background": "light"
          }
        }
      ]
    },
    {
      "cell_type": "code",
      "source": [
        "sns.countplot(x='album',data=dataset,palette='coolwarm')"
      ],
      "metadata": {
        "colab": {
          "base_uri": "https://localhost:8080/",
          "height": 296
        },
        "id": "emx0rtUr_GRn",
        "outputId": "41be7aa0-cbcc-48a3-f312-dcf35d400a78"
      },
      "execution_count": null,
      "outputs": [
        {
          "output_type": "execute_result",
          "data": {
            "text/plain": [
              "<matplotlib.axes._subplots.AxesSubplot at 0x7f4b34a12550>"
            ]
          },
          "metadata": {},
          "execution_count": 62
        },
        {
          "output_type": "display_data",
          "data": {
            "text/plain": [
              "<Figure size 432x288 with 1 Axes>"
            ],
            "image/png": "[encoded data removed]"
          },
          "metadata": {
            "needs_background": "light"
          }
        }
      ]
    },
    {
      "cell_type": "code",
      "source": [
        "#displaying info about dataset\n",
        "dataset.info()"
      ],
      "metadata": {
        "colab": {
          "base_uri": "https://localhost:8080/"
        },
        "id": "Xz-bb7rr_GT0",
        "outputId": "ba75a996-61c1-4c22-8fd9-9b1587462e87"
      },
      "execution_count": null,
      "outputs": [
        {
          "output_type": "stream",
          "name": "stdout",
          "text": [
            "<class 'pandas.core.frame.DataFrame'>\n",
            "RangeIndex: 4862 entries, 0 to 4861\n",
            "Data columns (total 7 columns):\n",
            " #   Column       Non-Null Count  Dtype \n",
            "---  ------       --------------  ----- \n",
            " 0   artist       4862 non-null   object\n",
            " 1   album        4862 non-null   object\n",
            " 2   track_title  4862 non-null   object\n",
            " 3   track_n      4862 non-null   int64 \n",
            " 4   lyric        4862 non-null   object\n",
            " 5   line         4862 non-null   int64 \n",
            " 6   year         4862 non-null   int64 \n",
            "dtypes: int64(3), object(4)\n",
            "memory usage: 266.0+ KB\n"
          ]
        }
      ]
    },
    {
      "cell_type": "code",
      "source": [
        "#function to help us process first lines of songs\n",
        "def processFirstLine(lyrics, songID, songName, row):\n",
        "    lyrics.append(row['lyric'] + '\\n')\n",
        "    songID.append( row['year']*100+ row['track_n'])\n",
        "    songName.append(row['track_title'])\n",
        "    return lyrics,songID,songName"
      ],
      "metadata": {
        "id": "tUHC0Ydy_GWk"
      },
      "execution_count": null,
      "outputs": []
    },
    {
      "cell_type": "code",
      "source": [
        "lyrics = [] #initializing an empty list lyrics\n",
        "songID = []#initializing an empty list songID\n",
        "songName = []#initializing an empty list songName\n",
        "\n",
        "songNumber = 1 #initializing songNumber at 1\n",
        "\n",
        "i = 0 #initializing counter i at 0\n",
        "\n",
        "isFirstLine = True #initializing condition isFirstLine at True\n",
        "\n",
        "for index,row in dataset.iterrows(): #iterating through dataset's rows\n",
        "    if(songNumber == row['track_n']):#testing if the row belongs to the song with track_n=songNumber\n",
        "        if (isFirstLine):#testing if it’s the first lyric line of the song \n",
        "    #we use function processFirstLine to store and memorize information about the song (we append row['year']*100+ row['track_n'] to songID and row['track_title'] to songName)and append the lyric line to the list lyrics .\n",
        "            lyrics,songID,songName = processFirstLine(lyrics,songID,songName,row)\n",
        "            isFirstLine = False #changing value of isFirstLine to False\n",
        "        else :# Ifthe row belongs to the song with tranck_n=songNumber but it is a non-first line lyric\n",
        "            lyrics[i] +=  row['lyric'] + '\\n'#concatenate the lyric of the row with the previous lines from the same song using iterator i.\n",
        "    else :#If the row doesn’t belong to the song with tranck_n=songNumber\n",
        "    #use the processFirstLine function to store information again about the new song and append the lyric line to the list lyrics.\n",
        "        lyrics,songID,songName = processFirstLine(lyrics,songID,songName,row)\n",
        "    #Updating value of songNumber to track_n of the new song\n",
        "        songNumber = row['track_n']\n",
        "    ##Updating value of i to move to the next element of lyrics\n",
        "        i+=1"
      ],
      "metadata": {
        "id": "D2tGubyN_GYO"
      },
      "execution_count": null,
      "outputs": []
    },
    {
      "cell_type": "code",
      "source": [
        "lyrics_data = pd.DataFrame({'songID':songID, 'songName':songName, 'lyrics':lyrics }) \n",
        "#This dataframe is a table whose columns are songID(unique identifier of the son"
      ],
      "metadata": {
        "id": "XrMD_XYv_GaA"
      },
      "execution_count": null,
      "outputs": []
    },
    {
      "cell_type": "code",
      "source": [
        "with open('lyricsText.txt', 'w',encoding=\"utf-8\") as filehandle:  \n",
        "    for listitem in lyrics:\n",
        "        filehandle.write('%s\\n' % listitem)"
      ],
      "metadata": {
        "id": "P1arxJ5n_GcK"
      },
      "execution_count": null,
      "outputs": []
    },
    {
      "cell_type": "code",
      "source": [
        "textFileName = 'lyricsText.txt'\n",
        "raw_text = open(textFileName, encoding = 'UTF-8').read()\n",
        "raw_text = raw_text.lower()"
      ],
      "metadata": {
        "id": "gkwaw175_GeX"
      },
      "execution_count": null,
      "outputs": []
    },
    {
      "cell_type": "code",
      "source": [
        "chars = sorted(list(set(raw_text)))\n",
        "int_chars = dict((i, c) for i, c in enumerate(chars))\n",
        "chars_int = dict((i, c) for c, i in enumerate(chars))"
      ],
      "metadata": {
        "id": "tKh_5aLd_GgW"
      },
      "execution_count": null,
      "outputs": []
    },
    {
      "cell_type": "code",
      "source": [
        "n_chars = len(raw_text)\n",
        "n_vocab = len(chars)"
      ],
      "metadata": {
        "id": "Q0UiI40d_GiO"
      },
      "execution_count": null,
      "outputs": []
    },
    {
      "cell_type": "code",
      "source": [
        "print('Number of Characters : ' , n_chars)\n",
        "print('Number of Alphabet : ', n_vocab) "
      ],
      "metadata": {
        "colab": {
          "base_uri": "https://localhost:8080/"
        },
        "id": "luRoibzx_GkL",
        "outputId": "c8548ab4-0c48-4ca1-8b83-60fde4d0fea4"
      },
      "execution_count": null,
      "outputs": [
        {
          "output_type": "stream",
          "name": "stdout",
          "text": [
            "Number of Characters :  173698\n",
            "Number of Alphabet :  58\n"
          ]
        }
      ]
    },
    {
      "cell_type": "code",
      "source": [
        "seq_len = 100 #Inputs of the model will be sequences of 100 characters\n",
        "data_X = []#initializing an empty list data_X that will store sequences of 100 characters\n",
        "data_y = []#initializing an empty list data_y that will store targets of data_X\n",
        "for i in range(0, n_chars - seq_len, 1):#looping from 1 to number of sequences of length 100 in raw_text\n",
        "    seq_in  = raw_text[i:i+seq_len] #taking a sequence of length 100 from raw_text\n",
        "    seq_out = raw_text[i + seq_len]#taking the character that follows the sequence\n",
        "    data_X.append([chars_int[char] for char in seq_in])#mapping seq_in to integers and append it to data_X\n",
        "    data_y.append(chars_int[seq_out])#mapping the seq_out to integer and append it to data_y\n",
        "n_patterns = len(data_X)\n",
        "print( 'Total Patterns : ', n_patterns)#number of samples"
      ],
      "metadata": {
        "colab": {
          "base_uri": "https://localhost:8080/"
        },
        "id": "Ty6MxFu2_Gnj",
        "outputId": "75a3cd00-ec29-4882-aca9-fad92be1d803"
      },
      "execution_count": null,
      "outputs": [
        {
          "output_type": "stream",
          "name": "stdout",
          "text": [
            "Total Patterns :  173598\n"
          ]
        }
      ]
    },
    {
      "cell_type": "code",
      "source": [
        "print( 'Total number of sequences : ', len(data_X))"
      ],
      "metadata": {
        "colab": {
          "base_uri": "https://localhost:8080/"
        },
        "id": "t0OpEWyUH0NL",
        "outputId": "37875e04-6c3a-4564-fbbd-28f8a7ec5bd9"
      },
      "execution_count": null,
      "outputs": [
        {
          "output_type": "stream",
          "name": "stdout",
          "text": [
            "Total number of sequences :  173598\n"
          ]
        }
      ]
    },
    {
      "cell_type": "code",
      "source": [
        "X = np.reshape(data_X , (n_patterns, seq_len, 1))"
      ],
      "metadata": {
        "id": "YkLNk3dHH14V"
      },
      "execution_count": null,
      "outputs": []
    },
    {
      "cell_type": "code",
      "source": [
        "X = X/ float(n_vocab)"
      ],
      "metadata": {
        "id": "NODPcRt3H6Fq"
      },
      "execution_count": null,
      "outputs": []
    },
    {
      "cell_type": "code",
      "source": [
        "y = np_utils.to_categorical(data_y)"
      ],
      "metadata": {
        "id": "W7YlWtlzH6CJ"
      },
      "execution_count": null,
      "outputs": []
    },
    {
      "cell_type": "code",
      "source": [
        "y"
      ],
      "metadata": {
        "colab": {
          "base_uri": "https://localhost:8080/"
        },
        "id": "KODt-aBYH5_o",
        "outputId": "a4adf11e-2e8b-4a62-ccbd-8dfa36d281d3"
      },
      "execution_count": null,
      "outputs": [
        {
          "output_type": "execute_result",
          "data": {
            "text/plain": [
              "array([[0., 0., 0., ..., 0., 0., 0.],\n",
              "       [0., 0., 0., ..., 0., 0., 0.],\n",
              "       [1., 0., 0., ..., 0., 0., 0.],\n",
              "       ...,\n",
              "       [0., 0., 0., ..., 0., 0., 0.],\n",
              "       [1., 0., 0., ..., 0., 0., 0.],\n",
              "       [1., 0., 0., ..., 0., 0., 0.]], dtype=float32)"
            ]
          },
          "metadata": {},
          "execution_count": 77
        }
      ]
    },
    {
      "cell_type": "code",
      "source": [
        "from sklearn.model_selection import train_test_split\n",
        "X,X_test,y,y_test=train_test_split(X,y,random_state=42)"
      ],
      "metadata": {
        "id": "JgSPF8GAH59W"
      },
      "execution_count": null,
      "outputs": []
    },
    {
      "cell_type": "code",
      "source": [
        "len(data_X) #total number of samples before split"
      ],
      "metadata": {
        "colab": {
          "base_uri": "https://localhost:8080/"
        },
        "id": "A0KmhmKtH57E",
        "outputId": "d8a5b32b-705b-4031-d7d1-c73c8603b0fa"
      },
      "execution_count": null,
      "outputs": [
        {
          "output_type": "execute_result",
          "data": {
            "text/plain": [
              "173598"
            ]
          },
          "metadata": {},
          "execution_count": 79
        }
      ]
    },
    {
      "cell_type": "code",
      "source": [
        "len(X) #number of samples used in training(75%)"
      ],
      "metadata": {
        "colab": {
          "base_uri": "https://localhost:8080/"
        },
        "id": "GnyPVzoiH54x",
        "outputId": "c4776e61-4c50-42ec-ac1a-a69556c9e42f"
      },
      "execution_count": null,
      "outputs": [
        {
          "output_type": "execute_result",
          "data": {
            "text/plain": [
              "130198"
            ]
          },
          "metadata": {},
          "execution_count": 80
        }
      ]
    },
    {
      "cell_type": "code",
      "source": [
        "len(X_test) #number of samples used in testing(25%)"
      ],
      "metadata": {
        "colab": {
          "base_uri": "https://localhost:8080/"
        },
        "id": "WOD1mB1WH52V",
        "outputId": "9e51137b-d5a7-4202-a6f3-89c45be1b4f7"
      },
      "execution_count": null,
      "outputs": [
        {
          "output_type": "execute_result",
          "data": {
            "text/plain": [
              "43400"
            ]
          },
          "metadata": {},
          "execution_count": 81
        }
      ]
    },
    {
      "cell_type": "code",
      "source": [
        "#to obtain same results everytime we run code\n",
        "np.random.seed(42)\n",
        "tf.random.set_seed(42)"
      ],
      "metadata": {
        "id": "FB7c4WknH50X"
      },
      "execution_count": null,
      "outputs": []
    },
    {
      "cell_type": "code",
      "source": [
        "#defining a sequential model\n",
        "model = Sequential()"
      ],
      "metadata": {
        "id": "yYOL0CnIH5xt"
      },
      "execution_count": null,
      "outputs": []
    },
    {
      "cell_type": "code",
      "source": [
        "#add an LSTM layer as input layer\n",
        "model.add(LSTM(256, input_shape =(X.shape[1], X.shape[2]), return_sequences = True))"
      ],
      "metadata": {
        "id": "is9XCJ7_H5uk"
      },
      "execution_count": null,
      "outputs": []
    },
    {
      "cell_type": "code",
      "source": [
        "#We add three LSTM layers as hidden layers with 256 nodesin each layer.\n",
        "model.add(LSTM(256, return_sequences=True))\n",
        "model.add(LSTM(256, return_sequences=True))\n",
        "model.add(LSTM(256, return_sequences=True))"
      ],
      "metadata": {
        "id": "yd1aLXOVH5r8"
      },
      "execution_count": null,
      "outputs": []
    },
    {
      "cell_type": "code",
      "source": [
        "#We flatten the data that is coming from the last hidden layer to input it to the output layer\n",
        "model.add(Flatten())"
      ],
      "metadata": {
        "id": "O5js0I69IW0P"
      },
      "execution_count": null,
      "outputs": []
    },
    {
      "cell_type": "code",
      "source": [
        "#We add a dense which is a fully connected neural network layer where each input node is connected to each output node\n",
        "model.add(Dense(y.shape[1]))\n",
        "#We also add an activation layer that determines activation function our neural network will use to calculate the output of a node.Since it's a multiclassification problem ,we use softmax function.\n",
        "model.add(Activation('softmax'))"
      ],
      "metadata": {
        "id": "fpytGIArIWws"
      },
      "execution_count": null,
      "outputs": []
    },
    {
      "cell_type": "code",
      "source": [
        "#Now we compile our model .Since it's a multiclassification problem ,we calculate the loss for each iteration of the training by using categorical cross entropy and optimise our network by using 'adam' optimizer .\n",
        "model.compile(loss = 'categorical_crossentropy', optimizer = 'adam', metrics=[\"accuracy\"])"
      ],
      "metadata": {
        "id": "Bm-r2hLpIWue"
      },
      "execution_count": null,
      "outputs": []
    },
    {
      "cell_type": "code",
      "source": [
        "model.summary()"
      ],
      "metadata": {
        "colab": {
          "base_uri": "https://localhost:8080/"
        },
        "id": "oL1gKLmhIWsW",
        "outputId": "73bb121b-7a8d-4031-b539-a1a5237f68ad"
      },
      "execution_count": null,
      "outputs": [
        {
          "output_type": "stream",
          "name": "stdout",
          "text": [
            "Model: \"sequential\"\n",
            "_________________________________________________________________\n",
            " Layer (type)                Output Shape              Param #   \n",
            "=================================================================\n",
            " lstm (LSTM)                 (None, 100, 256)          264192    \n",
            "                                                                 \n",
            " lstm_1 (LSTM)               (None, 100, 256)          525312    \n",
            "                                                                 \n",
            " lstm_2 (LSTM)               (None, 100, 256)          525312    \n",
            "                                                                 \n",
            " lstm_3 (LSTM)               (None, 100, 256)          525312    \n",
            "                                                                 \n",
            " flatten (Flatten)           (None, 25600)             0         \n",
            "                                                                 \n",
            " dense (Dense)               (None, 58)                1484858   \n",
            "                                                                 \n",
            " activation (Activation)     (None, 58)                0         \n",
            "                                                                 \n",
            "=================================================================\n",
            "Total params: 3,324,986\n",
            "Trainable params: 3,324,986\n",
            "Non-trainable params: 0\n",
            "_________________________________________________________________\n"
          ]
        }
      ]
    },
    {
      "cell_type": "code",
      "source": [
        "from tensorflow import keras\n",
        "import pydot\n",
        "keras.utils.plot_model(model)"
      ],
      "metadata": {
        "colab": {
          "base_uri": "https://localhost:8080/",
          "height": 758
        },
        "id": "BEXokQR_IWqL",
        "outputId": "c89989f0-6a7e-4c17-fe54-f31869e9f530"
      },
      "execution_count": null,
      "outputs": [
        {
          "output_type": "execute_result",
          "data": {
            "text/plain": [
              "<IPython.core.display.Image object>"
            ],
            "image/png": "[encoded data removed]"
          },
          "metadata": {},
          "execution_count": 90
        }
      ]
    },
    {
      "cell_type": "code",
      "source": [
        "#To avoid loosing our work ,we use model checkpoints so that the weights of the network nodes are saved to a file after every epoch.\n",
        "checkpoint_name = 'Weights-LSTM-improvement-{epoch:03d}-{loss:.5f}-bigger.hdf5'\n",
        "checkpoint = ModelCheckpoint(checkpoint_name, monitor='loss', verbose = 1, save_best_only = True, mode ='min')\n",
        "callbacks_list = [checkpoint]"
      ],
      "metadata": {
        "id": "M65gRJdhIWof"
      },
      "execution_count": null,
      "outputs": []
    },
    {
      "cell_type": "code",
      "source": [
        "# Fit the model :\n",
        "model_params = {'epochs':10,\n",
        "                'batch_size':128,\n",
        "                'callbacks':callbacks_list,\n",
        "                'verbose':1,\n",
        "                'validation_split':0.2,\n",
        "                'validation_data':None,\n",
        "                'shuffle': True,\n",
        "                'initial_epoch':0,\n",
        "                'steps_per_epoch':None,\n",
        "                'validation_steps':None}\n",
        "model.fit(X,\n",
        "          y,\n",
        "          epochs = model_params['epochs'],\n",
        "           batch_size = model_params['batch_size'],\n",
        "           callbacks= model_params['callbacks'],\n",
        "           verbose = model_params['verbose'],\n",
        "           validation_split = model_params['validation_split'],\n",
        "           validation_data = model_params['validation_data'],\n",
        "           shuffle = model_params['shuffle'],\n",
        "           initial_epoch = model_params['initial_epoch'],\n",
        "           steps_per_epoch = model_params['steps_per_epoch'],\n",
        "           validation_steps = model_params['validation_steps'])"
      ],
      "metadata": {
        "colab": {
          "base_uri": "https://localhost:8080/"
        },
        "id": "x5a3qd6aIWmI",
        "outputId": "d8ae77f8-8f63-4704-b271-eeccfec50e5a"
      },
      "execution_count": null,
      "outputs": [
        {
          "output_type": "stream",
          "name": "stdout",
          "text": [
            "Epoch 1/10\n",
            "814/814 [==============================] - ETA: 0s - loss: 3.0174 - accuracy: 0.1749\n",
            "Epoch 1: loss improved from inf to 3.01743, saving model to Weights-LSTM-improvement-001-3.01743-bigger.hdf5\n",
            "814/814 [==============================] - 3464s 4s/step - loss: 3.0174 - accuracy: 0.1749 - val_loss: 3.0176 - val_accuracy: 0.1748\n",
            "Epoch 2/10\n",
            "814/814 [==============================] - ETA: 0s - loss: 3.0125 - accuracy: 0.1749\n",
            "Epoch 2: loss improved from 3.01743 to 3.01254, saving model to Weights-LSTM-improvement-002-3.01254-bigger.hdf5\n",
            "814/814 [==============================] - 3434s 4s/step - loss: 3.0125 - accuracy: 0.1749 - val_loss: 3.0155 - val_accuracy: 0.1748\n",
            "Epoch 3/10\n",
            "814/814 [==============================] - ETA: 0s - loss: 3.0115 - accuracy: 0.1749\n",
            "Epoch 3: loss improved from 3.01254 to 3.01150, saving model to Weights-LSTM-improvement-003-3.01150-bigger.hdf5\n",
            "814/814 [==============================] - 3450s 4s/step - loss: 3.0115 - accuracy: 0.1749 - val_loss: 3.0177 - val_accuracy: 0.1748\n",
            "Epoch 4/10\n",
            "814/814 [==============================] - ETA: 0s - loss: 3.0104 - accuracy: 0.1749\n",
            "Epoch 4: loss improved from 3.01150 to 3.01042, saving model to Weights-LSTM-improvement-004-3.01042-bigger.hdf5\n",
            "814/814 [==============================] - 3450s 4s/step - loss: 3.0104 - accuracy: 0.1749 - val_loss: 3.0156 - val_accuracy: 0.1748\n",
            "Epoch 5/10\n",
            "814/814 [==============================] - ETA: 0s - loss: 2.8537 - accuracy: 0.2096\n",
            "Epoch 5: loss improved from 3.01042 to 2.85365, saving model to Weights-LSTM-improvement-005-2.85365-bigger.hdf5\n",
            "814/814 [==============================] - 3443s 4s/step - loss: 2.8537 - accuracy: 0.2096 - val_loss: 2.7605 - val_accuracy: 0.2311\n",
            "Epoch 6/10\n",
            "814/814 [==============================] - ETA: 0s - loss: 2.7053 - accuracy: 0.2385\n",
            "Epoch 6: loss improved from 2.85365 to 2.70527, saving model to Weights-LSTM-improvement-006-2.70527-bigger.hdf5\n",
            "814/814 [==============================] - 3449s 4s/step - loss: 2.7053 - accuracy: 0.2385 - val_loss: 2.6580 - val_accuracy: 0.2489\n",
            "Epoch 7/10\n",
            "814/814 [==============================] - ETA: 0s - loss: 2.5501 - accuracy: 0.2679\n",
            "Epoch 7: loss improved from 2.70527 to 2.55010, saving model to Weights-LSTM-improvement-007-2.55010-bigger.hdf5\n",
            "814/814 [==============================] - 3450s 4s/step - loss: 2.5501 - accuracy: 0.2679 - val_loss: 2.5328 - val_accuracy: 0.2810\n",
            "Epoch 8/10\n",
            "814/814 [==============================] - ETA: 0s - loss: 2.3463 - accuracy: 0.3167\n",
            "Epoch 8: loss improved from 2.55010 to 2.34629, saving model to Weights-LSTM-improvement-008-2.34629-bigger.hdf5\n",
            "814/814 [==============================] - 3469s 4s/step - loss: 2.3463 - accuracy: 0.3167 - val_loss: 2.3835 - val_accuracy: 0.3170\n",
            "Epoch 9/10\n",
            "814/814 [==============================] - ETA: 0s - loss: 2.0820 - accuracy: 0.3902\n",
            "Epoch 9: loss improved from 2.34629 to 2.08202, saving model to Weights-LSTM-improvement-009-2.08202-bigger.hdf5\n",
            "814/814 [==============================] - 3465s 4s/step - loss: 2.0820 - accuracy: 0.3902 - val_loss: 2.2347 - val_accuracy: 0.3753\n",
            "Epoch 10/10\n",
            "814/814 [==============================] - ETA: 0s - loss: 1.7603 - accuracy: 0.4825\n",
            "Epoch 10: loss improved from 2.08202 to 1.76026, saving model to Weights-LSTM-improvement-010-1.76026-bigger.hdf5\n",
            "814/814 [==============================] - 3465s 4s/step - loss: 1.7603 - accuracy: 0.4825 - val_loss: 2.1877 - val_accuracy: 0.4081\n"
          ]
        },
        {
          "output_type": "execute_result",
          "data": {
            "text/plain": [
              "<keras.callbacks.History at 0x7f4b2a524fd0>"
            ]
          },
          "metadata": {},
          "execution_count": 98
        }
      ]
    },
    {
      "cell_type": "code",
      "source": [
        "#Checking the performance of the model\n",
        "model.evaluate(X_test,y_test)"
      ],
      "metadata": {
        "colab": {
          "base_uri": "https://localhost:8080/"
        },
        "id": "t3RN9_d3IWga",
        "outputId": "bf50496f-1fe5-40e1-c11a-07ad000e7b59"
      },
      "execution_count": null,
      "outputs": [
        {
          "output_type": "stream",
          "name": "stdout",
          "text": [
            "1357/1357 [==============================] - 669s 493ms/step - loss: 2.1851 - accuracy: 0.4100\n"
          ]
        },
        {
          "output_type": "execute_result",
          "data": {
            "text/plain": [
              "[2.1851003170013428, 0.4100460708141327]"
            ]
          },
          "metadata": {},
          "execution_count": 100
        }
      ]
    },
    {
      "cell_type": "code",
      "source": [
        "start = np.random.randint(0, len(data_X)-1)#Returning a random number\n",
        "pattern = data_X[start]#we pick a random index in the list as our starting point\n",
        "print('Seed : ')\n",
        "print(\"\\\"\",''.join([int_chars[value] for value in pattern]), \"\\\"\\n\")\n",
        "\n",
        "generated_characters = 2000 #generating 2000 characters after initial sequence\n",
        "\n",
        "for i in range(generated_characters):\n",
        "    x = np.reshape(pattern, ( 1, len(pattern), 1))#We reshape the sequence x\n",
        "    x = x / float(n_vocab)#We normalize it\n",
        "    prediction = model.predict(x,verbose = 0)#We calculate the probability of each class to follow this sequence\n",
        "    index = np.argmax(prediction)#We detect the index of the highest probability\n",
        "    result = int_chars[index]#We map integer to character\n",
        "    sys.stdout.write(result)#we display the character(result of the prediction)\n",
        "    pattern.append(index)#We append this character to the sequence\n",
        "    pattern = pattern[1:len(pattern)]#We remove the first character of the sequence to obtain a new sequence and repeat the same process until predicting 500 characters.\n",
        "print('\\nDone')"
      ],
      "metadata": {
        "colab": {
          "base_uri": "https://localhost:8080/"
        },
        "id": "1GnLOzvoIWeU",
        "outputId": "c202a49f-f95e-4443-fb4d-1d4b9b8ae314"
      },
      "execution_count": null,
      "outputs": [
        {
          "output_type": "stream",
          "name": "stdout",
          "text": [
            "Seed : \n",
            "\" hat\n",
            "i'd never forget you as long as i live, and i\n",
            "wish you were right here, right now\n",
            "it's all good\n",
            " \"\n",
            "\n",
            "i wish you would\n",
            "ii foo 00\n",
            "\n",
            "ie,sohd\n",
            "it aalk you cene beow wou wenl you cen you tein doeevt oo fall ald you went you rhe would\n",
            "thet wou wast you fon the booldd wou wou drer bac wou tein you went toue\n",
            "ohey wou welt doeny bod the kiv thet i was tein you cenl wou wou den tou looe thet wou want to wou art i mnow wou aoe i know wou thel the fene wou wer ald to in woer to jeve\n",
            "wou wenl toule ar to doey\n",
            "i conlt then you loow beau bld i got to cong toeke you are ke\n",
            "you cou't know mow i muow i don't dan to wou dou't tee kest to pooi\n",
            "she tiil mnt\n",
            "i den't have to dod't say your sait clrge you're gom oo iec the kame to yas hoow you cen's kntw i wann you kooe you tein donl\n",
            "wou cver the was the sie say mi fone\n",
            "wou shat wou kee you loow baay wou want teel you benk aeln\n",
            "me, the say i keve you wey hoow shet you wand teen mi the carl to thw you cone beck that io you ho wou kete mo neme\n",
            "you kete you peiu bny the stnee the soyed you wour tein le oyt li the cand and to reyer to wou h dod teen wou went to peme you went thes\n",
            "wou wey you'le tei foon mow in the was aeyne wou kovw i was toonk wou aol the oooe\n",
            "wou aea tell i was too borne to you conne then wou wou donl the bouue aut i wes the kise you werh to dor to mete\n",
            "bue you den wou keke you weln\n",
            "i was thou bant to mee the coung\n",
            "but then you want dore then wou madd\n",
            "me wou tei darl, the shes you can to deu let\n",
            "you gooe you selu bark tou the kete and you heke to wou ho the say moth\n",
            "i make the namt oi the doust i was she birne the benl aee teer she cinl of the iiser to me you weln to done she koow h dat teet you say you keke you weln then wou cem me the wou saie you fenl that wou don to cone the duere aod wou cen to del the tay and the tay then aro you fot the wall\n",
            "to ald the tay the siet you wat she woun to dona aack wou wase teeo you saie that wou went to mooe wou know that wou west tha cres bnd i donl to tas it bol eare to she would then wou ael to dene it sale to fere it oo oyt you cod you donl thin mome f juot shet i fot wou fel to den a\n",
            "Done\n"
          ]
        }
      ]
    }
  ]
}